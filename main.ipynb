{
 "cells": [
  {
   "cell_type": "code",
   "execution_count": 1,
   "metadata": {},
   "outputs": [
    {
     "name": "stdout",
     "output_type": "stream",
     "text": [
      "Defaulting to user installation because normal site-packages is not writeable\n",
      "Requirement already satisfied: solidpython in c:\\users\\lucasrguerra\\appdata\\roaming\\python\\python312\\site-packages (1.1.3)\n",
      "Requirement already satisfied: PrettyTable==0.7.2 in c:\\users\\lucasrguerra\\appdata\\roaming\\python\\python312\\site-packages (from solidpython) (0.7.2)\n",
      "Requirement already satisfied: euclid3<0.2.0,>=0.1.0 in c:\\users\\lucasrguerra\\appdata\\roaming\\python\\python312\\site-packages (from solidpython) (0.1)\n",
      "Requirement already satisfied: ply<4.0,>=3.11 in c:\\users\\lucasrguerra\\appdata\\roaming\\python\\python312\\site-packages (from solidpython) (3.11)\n",
      "Requirement already satisfied: pypng<0.0.20,>=0.0.19 in c:\\users\\lucasrguerra\\appdata\\roaming\\python\\python312\\site-packages (from solidpython) (0.0.19)\n",
      "Note: you may need to restart the kernel to use updated packages.\n",
      "Defaulting to user installation because normal site-packages is not writeable\n",
      "Requirement already satisfied: setuptools in c:\\users\\lucasrguerra\\appdata\\roaming\\python\\python312\\site-packages (75.6.0)\n",
      "Note: you may need to restart the kernel to use updated packages.\n"
     ]
    }
   ],
   "source": [
    "%pip install solidpython\n",
    "%pip install setuptools"
   ]
  },
  {
   "cell_type": "code",
   "execution_count": 2,
   "metadata": {},
   "outputs": [],
   "source": [
    "from solid import color, cube, text, translate, union, linear_extrude, scad_render_to_file, scad_render, sphere, scale\n",
    "from resources import braille\n",
    "from solid.utils import up\n",
    "import os"
   ]
  },
  {
   "cell_type": "code",
   "execution_count": 3,
   "metadata": {},
   "outputs": [],
   "source": [
    "def create_points(point_1 = 0, point_2 = 0, point_3 = 0, point_4 = 0, point_5 = 0, point_6 = 0, spacing = 3):\n",
    "    points = False\n",
    "\n",
    "    if point_1 > 0:\n",
    "        points = translate([0, spacing * 2, 0])(sphere(r=point_1))\n",
    "    \n",
    "    if point_2 > 0:\n",
    "        if points:\n",
    "            points = union()(points, translate([spacing, spacing * 2, 0])(sphere(r=point_2)))\n",
    "        else:\n",
    "            points = translate([spacing, spacing * 2, 0])(sphere(r=point_2))\n",
    "\n",
    "    if point_3 > 0:\n",
    "        if points:\n",
    "            points = union()(points, translate([0, spacing, 0])(sphere(r=point_3)))\n",
    "        else:\n",
    "            points = translate([0, spacing, 0])(sphere(r=point_3))\n",
    "\n",
    "    if point_4 > 0:\n",
    "        if points:\n",
    "            points = union()(points, translate([spacing, spacing, 0])(sphere(r=point_4)))\n",
    "        else:\n",
    "            points = translate([spacing, spacing, 0])(sphere(r=point_4))\n",
    "    \n",
    "    if point_5 > 0:\n",
    "        if points:\n",
    "            points = union()(points, translate([0, 0, 0])(sphere(r=point_5)))\n",
    "        else:\n",
    "            points = translate([0, 0, 0])(sphere(r=point_5))\n",
    "\n",
    "    if point_6 > 0:\n",
    "        if points:\n",
    "            points = union()(points, translate([spacing, 0, 0])(sphere(r=point_6)))\n",
    "        else:\n",
    "            points = translate([spacing, 0, 0])(sphere(r=point_6))\n",
    "    \n",
    "    return points\n",
    "\n",
    "    return union()(\n",
    "        translate([0, spacing * 2, 0])(sphere(r=point_1)),\n",
    "        translate([spacing, spacing * 2, 0])(sphere(r=point_2)),\n",
    "        translate([0, spacing, 0])(sphere(r=point_3)),\n",
    "        translate([spacing, spacing, 0])(sphere(r=point_4)),\n",
    "        translate([0, 0, 0])(sphere(r=point_5)),\n",
    "        translate([spacing, 0, 0])(sphere(r=point_6)),\n",
    "    )\n",
    "\n",
    "def braille_to_points(braille_text, size = 1, spacing = 3):\n",
    "    braille_points = {\n",
    "        \"⠁\": create_points(size, spacing=spacing),                                  # ⠁\n",
    "        \"⠃\": create_points(size,0,size, spacing=spacing),                           # ⠃\n",
    "        \"⠉\": create_points(size,size, spacing=spacing),                             # ⠉\n",
    "        \"⠙\": create_points(size,size,0,size, spacing=spacing),                      # ⠙\n",
    "        \"⠑\": create_points(size,0,0,size, spacing=spacing),                         # ⠑\n",
    "        \"⠋\": create_points(size,size,size, spacing=spacing),                        # ⠋\n",
    "        \"⠛\": create_points(size,size,size,size, spacing=spacing),                   # ⠛\n",
    "        \"⠓\": create_points(size,0,size,size, spacing=spacing),                      # ⠓\n",
    "        \"⠊\": create_points(0,size,size, spacing=spacing),                           # ⠊\n",
    "        \"⠚\": create_points(0,size,size,size, spacing=spacing),                      # ⠚\n",
    "        \"⠅\": create_points(size,0,0,0,size, spacing=spacing),                       # ⠅\n",
    "        \"⠇\": create_points(size,0,size,0,size, spacing=spacing),                    # ⠇\n",
    "        \"⠍\": create_points(size,size,0,0,size, spacing=spacing),                    # ⠍\n",
    "        \"⠝\": create_points(size,size,0,size,size, spacing=spacing),                 # ⠝\n",
    "        \"⠕\": create_points(size,0,0,size,size, spacing=spacing),                    # ⠕\n",
    "        \"⠏\": create_points(size,size,size,0,size, spacing=spacing),                 # ⠏\n",
    "        \"⠟\": create_points(size,size,size,size,size, spacing=spacing),              # ⠟\n",
    "        \"⠗\": create_points(size,0,size,size,size,0, spacing=spacing),               # ⠗\n",
    "        \"⠎\": create_points(0,size,size,0,size, spacing=spacing),                    # ⠎\n",
    "        \"⠞\": create_points(0,size,size,size,size, spacing=spacing),                 # ⠞\n",
    "        \"⠥\": create_points(size,0,0,0,size,size, spacing=spacing),                  # ⠥\n",
    "        \"⠧\": create_points(size,0,size,0,size,size, spacing=spacing),               # ⠧\n",
    "        \"⠺\": create_points(0,size,size,size,0,size, spacing=spacing),               # ⠺\n",
    "        \"⠭\": create_points(size,size,0,0,size,size, spacing=spacing),               # ⠭\n",
    "        \"⠽\": create_points(size,size,0,size,size,size, spacing=spacing),            # ⠽\n",
    "        \"⠵\": create_points(size,0,0,size,size,size, spacing=spacing),               # ⠵\n",
    "        \"⠂\": create_points(0,0,size, spacing=spacing),                              # ⠂\n",
    "        \"⠆\": create_points(0,0,size,0,size, spacing=spacing),                       # ⠆\n",
    "        \"⠒\": create_points(0,0,size,size, spacing=spacing),                         # ⠒\n",
    "        \"⠄\": create_points(0,0,0,0,size, spacing=spacing),                          # ⠄\n",
    "        \"⠖\": create_points(0,0,size,size,size, spacing=spacing),                    # ⠖\n",
    "        \"⠢\": create_points(0,0,size,0,0,size, spacing=spacing),                     # ⠢\n",
    "        \"⠶\": create_points(0,0,size,size,size,size, spacing=spacing),               # ⠶\n",
    "        \"⠱\": create_points(size,0,0,size,0,size, spacing=spacing),                  # ⠱\n",
    "        \"⠠\": create_points(0,0,0,0,0,size, spacing=spacing),                        # ⠠\n",
    "        \"⠯\": create_points(size,size,size,0,size,size, spacing=spacing),            # ⠯\n",
    "        \"⠷\": create_points(size,0,size,size,size,size, spacing=spacing),            # ⠷\n",
    "        \"⠫\": create_points(size,size,size,0,0,size, spacing=spacing),               # ⠫\n",
    "        \"⠜\": create_points(0,size,0,size,size, spacing=spacing),                    # ⠜\n",
    "        \"⠡\": create_points(size,0,0,0,0,size, spacing=spacing),                     # ⠡\n",
    "        \"⠿\": create_points(size,size,size,size,size,size, spacing=spacing),         # ⠿\n",
    "        \"⠣\": create_points(size,0,size,0,0,size, spacing=spacing),                  # ⠣\n",
    "        \"⠌\": create_points(0,size,0,0,size, spacing=spacing),                       # ⠌\n",
    "        \"⠬\": create_points(0,size,0,0,size,size, spacing=spacing),                  # ⠬\n",
    "        \"⠹\": create_points(size,size,0,size,0,size, spacing=spacing),               # ⠹\n",
    "        \"⠪\": create_points(0,size,size,0,0,size, spacing=spacing),                  # ⠪\n",
    "        \"⠾\": create_points(0,size,size,size,size,size, spacing=spacing),            # ⠾\n",
    "        \"⠼\": create_points(0,size,0,size,size,size, spacing=spacing),               # ⠼\n",
    "        \"⠨\": create_points(0,size,0,0,0,size, spacing=spacing),                     # ⠨\n",
    "        \"⣄\": create_points(0,0,0,size,size,size, spacing=spacing),                  # ⣄\n",
    "        \" \": create_points(spacing=spacing),                                        #  \n",
    "    }\n",
    "\n",
    "    first_letter = True\n",
    "    phrases = braille_text.split(\"\\n\")\n",
    "    for index_p, phrase in enumerate(phrases):\n",
    "        first_phrase_letter = True\n",
    "        for index_l, letter in enumerate(phrase):\n",
    "            if first_letter:\n",
    "                points = translate([0, 0, 0])(braille_points[letter])\n",
    "                first_phrase_letter = False\n",
    "                first_letter = False\n",
    "                continue\n",
    "            \n",
    "            if first_phrase_letter:\n",
    "                points = union()(points, translate([0, -(spacing * 6 * (index_p)), 0])(braille_points[letter]))\n",
    "                first_phrase_letter = False\n",
    "                continue\n",
    "\n",
    "            points = union()(points, translate([(spacing * 2.5 * (index_l)), -(spacing * 6 * (index_p)), 0])(braille_points[letter]))\n",
    "    return points"
   ]
  },
  {
   "cell_type": "code",
   "execution_count": 6,
   "metadata": {},
   "outputs": [
    {
     "name": "stdout",
     "output_type": "stream",
     "text": [
      "⠨⠇⠁⠃⠕⠗⠁⠞⠬⠗⠊⠕ ⠙⠑ ⠨⠊⠍⠏⠗⠑⠎⠎⠜⠕\n",
      "⠼⠉⠨⠨⠙ ⠑ ⠨⠊⠝⠉⠇⠥⠎⠊⠧⠁ ⠣⠨⠇⠨⠁⠨⠃⠨⠞⠨⠑⠨⠉⠼⠉⠨⠨⠙⠨⠨⠊⠨⠜\n"
     ]
    },
    {
     "data": {
      "image/png": "[encoded data removed]",
      "text/plain": [
       "<solid.objects.scale at 0x1778db69790>"
      ]
     },
     "execution_count": 6,
     "metadata": {},
     "output_type": "execute_result"
    }
   ],
   "source": [
    "texto = \"Laboratório de Impressão\\n3D e Inclusiva (LABTEC3DI)\"\n",
    "\n",
    "tamanho_texto = 4\n",
    "espacamento_texto = 15\n",
    "tamanho_borda = 15\n",
    "espessura_da_placa = 4\n",
    "\n",
    "texto_braille = braille.text_to_braille(texto)\n",
    "print(texto_braille)\n",
    "\n",
    "texto_3d = color(\"black\")(braille_to_points(texto_braille, tamanho_texto, espacamento_texto))\n",
    "\n",
    "frases = texto_braille.split(\"\\n\")\n",
    "tamanho_maior_frase = 0\n",
    "quantidade_frases = len(frases)\n",
    "\n",
    "\n",
    "altura = (espacamento_texto * 3.5) + tamanho_borda\n",
    "largura = ((espacamento_texto * 2.5) * len(frases[0])) + tamanho_borda\n",
    "superficie = color(\"white\")(up(0)(cube([largura, altura, espessura_da_placa])))\n",
    "for i in range(quantidade_frases - 1):\n",
    "    largura = ((espacamento_texto * 2.5) * len(frases[i + 1])) + tamanho_borda\n",
    "    superficie = union()(superficie, translate([0, -((espacamento_texto * 6) * (i + 1)), 0])(color(\"white\")(up(0)(cube([largura, altura, espessura_da_placa])))))\n",
    "\n",
    "modelo_final = union()(superficie, translate([espacamento_texto, (altura - (espacamento_texto * 3.25)), tamanho_texto])(texto_3d))\n",
    "modelo_final = scale(0.33)(modelo_final)\n",
    "modelo_final"
   ]
  },
  {
   "cell_type": "code",
   "execution_count": 7,
   "metadata": {},
   "outputs": [
    {
     "name": "stdout",
     "output_type": "stream",
     "text": [
      "Arquivo STL criado: ./placa_braille.stl\n"
     ]
    }
   ],
   "source": [
    "# Exportar para STL\n",
    "nome_arquivo = \"placa_braille\"\n",
    "\n",
    "scad_path = \"./\" + nome_arquivo + \".scad\"\n",
    "stl_path = \"./\" + nome_arquivo + \".stl\"\n",
    "\n",
    "scad_render_to_file(modelo_final, scad_path)\n",
    "\n",
    "os.system(f\"openscad -o {stl_path} {scad_path} --render\")\n",
    "\n",
    "print(f\"Arquivo STL criado: {stl_path}\")"
   ]
  }
 ],
 "metadata": {
  "kernelspec": {
   "display_name": "Python 3",
   "language": "python",
   "name": "python3"
  },
  "language_info": {
   "codemirror_mode": {
    "name": "ipython",
    "version": 3
   },
   "file_extension": ".py",
   "mimetype": "text/x-python",
   "name": "python",
   "nbconvert_exporter": "python",
   "pygments_lexer": "ipython3",
   "version": "3.12.2"
  }
 },
 "nbformat": 4,
 "nbformat_minor": 2
}
